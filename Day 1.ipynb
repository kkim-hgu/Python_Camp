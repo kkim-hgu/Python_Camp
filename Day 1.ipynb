{
 "cells": [
  {
   "cell_type": "markdown",
   "metadata": {},
   "source": [
    "# 파이썬 캠프\n",
    "\n",
    "\n",
    "---\n",
    "\n",
    "\n",
    "author: kkim@handong.edu\n"
   ]
  },
  {
   "cell_type": "markdown",
   "metadata": {},
   "source": [
    "## 코딩 4 원칙\n",
    "\n",
    "1. **생각 후 코딩**\n",
    "\n",
    "2. **조건과 반복**\n",
    "\n",
    "3. **읽기와 쓰기**\n",
    "\n",
    "4. **주기와 받기**\n"
   ]
  },
  {
   "cell_type": "markdown",
   "metadata": {},
   "source": [
    "## 1: Print a simple string & variable"
   ]
  },
  {
   "cell_type": "code",
   "execution_count": 1,
   "metadata": {},
   "outputs": [
    {
     "name": "stdout",
     "output_type": "stream",
     "text": [
      "Why not change the world?\n",
      "10\n"
     ]
    }
   ],
   "source": [
    "print(\"Why not change the world?\")\n",
    "a = 10\n",
    "print(a)"
   ]
  },
  {
   "cell_type": "markdown",
   "metadata": {},
   "source": [
    "---"
   ]
  },
  {
   "cell_type": "markdown",
   "metadata": {},
   "source": [
    "## 2: Add two numbers together"
   ]
  },
  {
   "cell_type": "code",
   "execution_count": 2,
   "metadata": {},
   "outputs": [
    {
     "name": "stdout",
     "output_type": "stream",
     "text": [
      "x=4, y=5\n",
      "x={0}, y={1}\n",
      "z=9.\n",
      "z=9.\n"
     ]
    }
   ],
   "source": [
    "x = 4\n",
    "y = 5\n",
    "z = x + y\n",
    "print(\"x={0}, y={1}\".format(x,y))\n",
    "print(\"x={0}, y={1}\")\n",
    "print(\"z={0:d}.\".format(z))\n",
    "print(\"z=%d.\"%(z))"
   ]
  },
  {
   "cell_type": "raw",
   "metadata": {},
   "source": [
    "\"z={0:d}.\".format(z) 를 분해하면\n",
    "\"z={0:d}.\"문자열에 .format(z) 함수가 붙어있음\n",
    "어떤 문자열 객체가 가진 format 메소드(또는 함수)를 호출함\n",
    "in C, printf(\"%d %d\",a,b);\n",
    "객체에 뭔가를 요청하는 것.\n",
    "어떤객체.어떤메소드(파라미터)"
   ]
  },
  {
   "cell_type": "markdown",
   "metadata": {},
   "source": [
    "---"
   ]
  },
  {
   "cell_type": "markdown",
   "metadata": {},
   "source": [
    "## 3: Add two lists together"
   ]
  },
  {
   "cell_type": "code",
   "execution_count": 3,
   "metadata": {},
   "outputs": [
    {
     "name": "stdout",
     "output_type": "stream",
     "text": [
      "a=[1, 2, 3, 4]\n",
      "b=['first', 'second', 'third', 'fourth']\n",
      "c=[1, 2, 3, 4, 'first', 'second', 'third', 'fourth']\n"
     ]
    }
   ],
   "source": [
    "a = [1, 2, 3, 4]\n",
    "b = [\"first\", \"second\", \"third\", \"fourth\"]\n",
    "c = a + b\n",
    "print(\"a={0}\\nb={1}\\nc={2}\".format(a, b, c))"
   ]
  },
  {
   "cell_type": "markdown",
   "metadata": {},
   "source": [
    "---"
   ]
  },
  {
   "cell_type": "markdown",
   "metadata": {},
   "source": [
    "## 4: Integers"
   ]
  },
  {
   "cell_type": "code",
   "execution_count": 4,
   "metadata": {},
   "outputs": [
    {
     "name": "stdout",
     "output_type": "stream",
     "text": [
      "9\n",
      "81\n",
      "4.0\n"
     ]
    }
   ],
   "source": [
    "x = 9\n",
    "print(x)\n",
    "print(3**4)\n",
    "print(int(8.3)/int(2.7))"
   ]
  },
  {
   "cell_type": "markdown",
   "metadata": {},
   "source": [
    "엄밀하게 따지면 int()함수가 아니라 int객체의 생성자 호출임 \n",
    "in C, (int)8.3"
   ]
  },
  {
   "cell_type": "markdown",
   "metadata": {},
   "source": [
    "---"
   ]
  },
  {
   "cell_type": "markdown",
   "metadata": {},
   "source": [
    "## 5: Floating pointer numbers"
   ]
  },
  {
   "cell_type": "code",
   "execution_count": 5,
   "metadata": {},
   "outputs": [
    {
     "name": "stdout",
     "output_type": "stream",
     "text": [
      "3.074\n",
      "12.0\n",
      "2.67\n",
      "2.6667\n",
      "2.6667\n"
     ]
    }
   ],
   "source": [
    "print(\"{0:.3f}\".format(8.3/2.7))\n",
    "y = 2.5*4.8\n",
    "print(\"{0:.1f}\".format(y))\n",
    "r = 8/float(3)\n",
    "print(\"{0:.2f}\".format(r))\n",
    "print(\"{0:.4f}\".format(8.0/3))\n",
    "print(\"%.4f\"%(8.0/3))"
   ]
  },
  {
   "cell_type": "markdown",
   "metadata": {},
   "source": [
    "---"
   ]
  },
  {
   "cell_type": "markdown",
   "metadata": {},
   "source": [
    "## 6: Some mathematical functions available in the math module"
   ]
  },
  {
   "cell_type": "code",
   "execution_count": 6,
   "metadata": {},
   "outputs": [
    {
     "name": "stdout",
     "output_type": "stream",
     "text": [
      "20.0855\n",
      "1.39\n",
      "9.0\n"
     ]
    }
   ],
   "source": [
    "from math import exp, log, sqrt\n",
    "print(\"{0:.4f}\".format(exp(3)))\n",
    "print(\"{0:.2f}\".format(log(4)))\n",
    "print(\"{0:.1f}\".format(sqrt(81)))"
   ]
  },
  {
   "cell_type": "markdown",
   "metadata": {},
   "source": [
    "---"
   ]
  },
  {
   "cell_type": "markdown",
   "metadata": {},
   "source": [
    "## 7: Strings"
   ]
  },
  {
   "cell_type": "markdown",
   "metadata": {},
   "source": [
    "### A string with single quotes"
   ]
  },
  {
   "cell_type": "code",
   "execution_count": 7,
   "metadata": {},
   "outputs": [
    {
     "name": "stdout",
     "output_type": "stream",
     "text": [
      "I'm enjoying learning \"Python\"\n"
     ]
    }
   ],
   "source": [
    "print(\"I'm enjoying learning \\\"Python\\\"\")"
   ]
  },
  {
   "cell_type": "markdown",
   "metadata": {},
   "source": [
    "### A long string"
   ]
  },
  {
   "cell_type": "code",
   "execution_count": 8,
   "metadata": {},
   "outputs": [
    {
     "name": "stdout",
     "output_type": "stream",
     "text": [
      "first line second line\n"
     ]
    }
   ],
   "source": [
    "print(\"first line second line\")"
   ]
  },
  {
   "cell_type": "markdown",
   "metadata": {},
   "source": [
    "### Use triple single or double quotes"
   ]
  },
  {
   "cell_type": "code",
   "execution_count": 9,
   "metadata": {},
   "outputs": [
    {
     "name": "stdout",
     "output_type": "stream",
     "text": [
      "You can use triple single quotes\n",
      "for multi-line comment strings\n",
      "You can also use triple double quotations\n",
      "for multi-line comment strings\n"
     ]
    }
   ],
   "source": [
    "print('''You can use triple single quotes\n",
    "for multi-line comment strings''')\n",
    "\n",
    "print(\"\"\"You can also use triple double quotations\n",
    "for multi-line comment strings\"\"\")"
   ]
  },
  {
   "cell_type": "markdown",
   "metadata": {},
   "source": [
    "### Add two strings together"
   ]
  },
  {
   "cell_type": "code",
   "execution_count": 10,
   "metadata": {},
   "outputs": [
    {
     "name": "stdout",
     "output_type": "stream",
     "text": [
      "Hello World\n"
     ]
    }
   ],
   "source": [
    "string1 = \"Hello \"\n",
    "string2 = \"World\"\n",
    "sentence = string1 + string2\n",
    "print(sentence)"
   ]
  },
  {
   "cell_type": "markdown",
   "metadata": {},
   "source": [
    "### Repeat a string four times"
   ]
  },
  {
   "cell_type": "code",
   "execution_count": 11,
   "metadata": {},
   "outputs": [
    {
     "name": "stdout",
     "output_type": "stream",
     "text": [
      "She is very very very very  beautiful.\n"
     ]
    }
   ],
   "source": [
    "print(\"She is\", \"very \"*4, \"beautiful.\")\n"
   ]
  },
  {
   "cell_type": "markdown",
   "metadata": {},
   "source": [
    "### number of characters in a string\n"
   ]
  },
  {
   "cell_type": "code",
   "execution_count": 12,
   "metadata": {},
   "outputs": [
    {
     "name": "stdout",
     "output_type": "stream",
     "text": [
      "length : 11\n"
     ]
    }
   ],
   "source": [
    "m = len(sentence)\n",
    "print(\"length : {0:d}\".format(m))"
   ]
  },
  {
   "cell_type": "markdown",
   "metadata": {},
   "source": [
    "### split()"
   ]
  },
  {
   "cell_type": "code",
   "execution_count": 13,
   "metadata": {},
   "outputs": [
    {
     "name": "stdout",
     "output_type": "stream",
     "text": [
      "string1_list1\n",
      "FIRST PIECE:Why SECOND PIECE:not THIRD PIECE:change\n",
      "string1_list2\n",
      "FIRST PIECE:Why SECOND PIECE:not THIRD PIECE:change the world?\n"
     ]
    }
   ],
   "source": [
    "string1 = \"Why not change the world?\"\n",
    "string1_list1 = string1.split()\n",
    "print(\"string1_list1\")\n",
    "print(\"FIRST PIECE:{0} SECOND PIECE:{1} THIRD PIECE:{2}\"\\\n",
    ".format(string1_list1[0], string1_list1[1], string1_list1[2]))\n",
    "string1_list2 = string1.split(\" \", 2)\n",
    "print(\"string1_list2\")\n",
    "print(\"FIRST PIECE:{0} SECOND PIECE:{1} THIRD PIECE:{2}\"\\\n",
    ".format(string1_list2[0], string1_list2[1], string1_list2[2]))"
   ]
  },
  {
   "cell_type": "markdown",
   "metadata": {},
   "source": [
    "### delimeter"
   ]
  },
  {
   "cell_type": "code",
   "execution_count": 14,
   "metadata": {},
   "outputs": [
    {
     "name": "stdout",
     "output_type": "stream",
     "text": [
      "['one', 'two', 'three', 'four', 'five', 'six']\n",
      "two six six\n"
     ]
    }
   ],
   "source": [
    "string2 = \"one,two,three,four,five,six\"\n",
    "string2_list = string2.split(',')\n",
    "print(string2_list)\n",
    "print(\"{0} {1} {2}\".format(string2_list[1], string2_list[5], string2_list[-1]))\n"
   ]
  },
  {
   "cell_type": "markdown",
   "metadata": {},
   "source": [
    "### join()"
   ]
  },
  {
   "cell_type": "code",
   "execution_count": 15,
   "metadata": {},
   "outputs": [
    {
     "name": "stdout",
     "output_type": "stream",
     "text": [
      "joined : one,two,three,four,five,six\n"
     ]
    }
   ],
   "source": [
    "print(\"joined : {0}\".format(','.join(string2_list)))"
   ]
  },
  {
   "cell_type": "markdown",
   "metadata": {},
   "source": [
    "### strip()"
   ]
  },
  {
   "cell_type": "code",
   "execution_count": 16,
   "metadata": {},
   "outputs": [
    {
     "name": "stdout",
     "output_type": "stream",
     "text": [
      "<- Why not change the world?\t\t \n",
      "->\n",
      "<-Why not change the world?\t\t \n",
      "->\n",
      "<- Why not change the world?->\n",
      "<-Why not change the world?->\n",
      "<-$$Why not change the world?__---++->\n",
      "<-Why not change the world?->\n"
     ]
    }
   ],
   "source": [
    "string3 = \" Why not change the world?\\t\\t \\n\"\n",
    "print(\"<-{0:s}->\".format(string3))\n",
    "string3_lstrip = string3.lstrip()\n",
    "print(\"<-{0:s}->\".format(string3_lstrip))\n",
    "string3_rstrip = string3.rstrip()\n",
    "print(\"<-{0:s}->\".format(string3_rstrip))\n",
    "string3_strip = string3.strip()\n",
    "print(\"<-{0:s}->\".format(string3_strip))\n",
    "\n",
    "string4 = \"$$Why not change the world?__---++\"\n",
    "print(\"<-{0:s}->\".format(string4))\n",
    "string4_strip = string4.strip('$_-+')\n",
    "print(\"<-{0:s}->\".format(string4_strip))\n"
   ]
  },
  {
   "cell_type": "markdown",
   "metadata": {},
   "source": [
    "### replace()"
   ]
  },
  {
   "cell_type": "code",
   "execution_count": 17,
   "metadata": {},
   "outputs": [
    {
     "name": "stdout",
     "output_type": "stream",
     "text": [
      "<-Why_not_change_the_world?->\n",
      "<-Why,not,change,the,world?->\n"
     ]
    }
   ],
   "source": [
    "string5 = \"Why not change the world?\"\n",
    "string5_replace = string5.replace(\" \", \"_\")\n",
    "print(\"<-{0:s}->\".format(string5_replace))\n",
    "string5_replace = string5.replace(\" \", \",\")\n",
    "print(\"<-{0:s}->\".format(string5_replace))"
   ]
  },
  {
   "cell_type": "markdown",
   "metadata": {},
   "source": [
    "### lower(), upper(), capitalize()"
   ]
  },
  {
   "cell_type": "code",
   "execution_count": 18,
   "metadata": {},
   "outputs": [
    {
     "name": "stdout",
     "output_type": "stream",
     "text": [
      "<-why not change the world?->\n",
      "<-WHY NOT CHANGE THE WORLD?->\n",
      "<-Why not change the world?->\n",
      "each words:\n",
      "Why\n",
      "Not\n",
      "Change\n",
      "The\n",
      "World?\n"
     ]
    }
   ],
   "source": [
    "string6 = \"Why not CHANGE the world?\"\n",
    "print(\"<-{0:s}->\".format(string6.lower()))\n",
    "print(\"<-{0:s}->\".format(string6.upper()))\n",
    "print(\"<-{0:s}->\".format(string6.capitalize()))\n",
    "string8_list = string6.split()\n",
    "\n",
    "print(\"each words:\")\n",
    "for word in string8_list:\n",
    "   print(\"{0:s}\".format(word.capitalize()))"
   ]
  },
  {
   "cell_type": "markdown",
   "metadata": {},
   "source": [
    "---"
   ]
  },
  {
   "cell_type": "markdown",
   "metadata": {},
   "source": [
    "## 8: Regular expression / pattern matching"
   ]
  },
  {
   "cell_type": "markdown",
   "metadata": {},
   "source": [
    "### Count the number of times a pattern appears in a string"
   ]
  },
  {
   "cell_type": "code",
   "execution_count": 19,
   "metadata": {},
   "outputs": [
    {
     "name": "stdout",
     "output_type": "stream",
     "text": [
      "count : 1\n"
     ]
    }
   ],
   "source": [
    "import re\n",
    "string = \"Why not change the world?\"\n",
    "string_list = string.split()\n",
    "pattern = re.compile(r\"The\", re.I)\n",
    "count = 0\n",
    "for word in string_list:\n",
    "\tif pattern.search(word):\n",
    "\t\tcount += 1\n",
    "print(\"count : {0:d}\".format(count))"
   ]
  },
  {
   "cell_type": "markdown",
   "metadata": {},
   "source": [
    "### Substitute the letter \"a\" for the word \"the\" in the string"
   ]
  },
  {
   "cell_type": "code",
   "execution_count": 20,
   "metadata": {},
   "outputs": [
    {
     "name": "stdout",
     "output_type": "stream",
     "text": [
      "Why not change a world?\n"
     ]
    }
   ],
   "source": [
    "string = \"Why not change the world?\"\n",
    "string_to_find = r\"The\"\n",
    "pattern = re.compile(string_to_find, re.I)\n",
    "print(pattern.sub(\"a\", string))\n"
   ]
  },
  {
   "cell_type": "markdown",
   "metadata": {},
   "source": [
    "---"
   ]
  },
  {
   "cell_type": "markdown",
   "metadata": {},
   "source": [
    "## 9: Dates"
   ]
  },
  {
   "cell_type": "code",
   "execution_count": 21,
   "metadata": {},
   "outputs": [
    {
     "name": "stdout",
     "output_type": "stream",
     "text": [
      "2019-07-16\n",
      "2019\n",
      "7\n",
      "16\n",
      "2019-07-16 23:27:31.069835\n"
     ]
    }
   ],
   "source": [
    "from datetime import date, time, datetime, timedelta\n",
    "today = date.today()\n",
    "print(today)\n",
    "print(today.year)\n",
    "print(today.month)\n",
    "print(today.day)\n",
    "current_datetime = datetime.today()\n",
    "print(current_datetime)"
   ]
  },
  {
   "cell_type": "markdown",
   "metadata": {},
   "source": [
    "### Calculate a new date using a timedelta"
   ]
  },
  {
   "cell_type": "code",
   "execution_count": 22,
   "metadata": {},
   "outputs": [
    {
     "name": "stdout",
     "output_type": "stream",
     "text": [
      "2019-07-15\n",
      "-1 57600\n"
     ]
    }
   ],
   "source": [
    "one_day = timedelta(days=-1)\n",
    "yesterday = today + one_day\n",
    "print(yesterday)\n",
    "eight_hours = timedelta(hours=-8)\n",
    "print(eight_hours.days, eight_hours.seconds)"
   ]
  },
  {
   "cell_type": "markdown",
   "metadata": {},
   "source": [
    "### Calculate the amount of time between two dates and grab the first element, the number of days"
   ]
  },
  {
   "cell_type": "code",
   "execution_count": 23,
   "metadata": {},
   "outputs": [
    {
     "name": "stdout",
     "output_type": "stream",
     "text": [
      "1 day, 0:00:00\n",
      "1\n"
     ]
    }
   ],
   "source": [
    "date_diff = today - yesterday\n",
    "print(date_diff)\n",
    "print(str(date_diff).split()[0])\n"
   ]
  },
  {
   "cell_type": "markdown",
   "metadata": {},
   "source": [
    "### Create a string with a specific format from a date object"
   ]
  },
  {
   "cell_type": "code",
   "execution_count": 24,
   "metadata": {},
   "outputs": [
    {
     "name": "stdout",
     "output_type": "stream",
     "text": [
      "07/16/2019\n",
      "Jul 16, 2019\n",
      "2019-07-16\n",
      "July 16, 2019\n"
     ]
    }
   ],
   "source": [
    "print(today.strftime('%m/%d/%Y'))\n",
    "print(today.strftime('%b %d, %Y'))\n",
    "print(today.strftime('%Y-%m-%d'))\n",
    "print(today.strftime('%B %d, %Y'))"
   ]
  },
  {
   "cell_type": "markdown",
   "metadata": {},
   "source": [
    "### Create a datetime object with a specific format from a string representing a date"
   ]
  },
  {
   "cell_type": "code",
   "execution_count": 25,
   "metadata": {},
   "outputs": [],
   "source": [
    "date1 = today.strftime('%m/%d/%Y')\n",
    "date2 = today.strftime('%b %d, %Y')\n",
    "date3 = today.strftime('%Y-%m-%d')\n",
    "date4 = today.strftime('%B %d, %Y')"
   ]
  },
  {
   "cell_type": "markdown",
   "metadata": {},
   "source": [
    "### Two datetime objects and two date objects based on the four strings that have different date formats"
   ]
  },
  {
   "cell_type": "code",
   "execution_count": 26,
   "metadata": {},
   "outputs": [
    {
     "name": "stdout",
     "output_type": "stream",
     "text": [
      "2019-07-16 00:00:00\n",
      "2019-07-16 00:00:00\n"
     ]
    }
   ],
   "source": [
    "print(datetime.strptime(date1, '%m/%d/%Y'))\n",
    "print(datetime.strptime(date2, '%b %d, %Y'))"
   ]
  },
  {
   "cell_type": "markdown",
   "metadata": {},
   "source": [
    "### Show the date portion only"
   ]
  },
  {
   "cell_type": "code",
   "execution_count": 27,
   "metadata": {},
   "outputs": [
    {
     "name": "stdout",
     "output_type": "stream",
     "text": [
      "2019-07-16\n",
      "2019-07-16\n"
     ]
    }
   ],
   "source": [
    "print(datetime.date(datetime.strptime(date3, '%Y-%m-%d')))\n",
    "print(datetime.date(datetime.strptime(date4, '%B %d, %Y')))"
   ]
  },
  {
   "cell_type": "markdown",
   "metadata": {},
   "source": [
    "---"
   ]
  },
  {
   "cell_type": "markdown",
   "metadata": {},
   "source": [
    "## 10: Lists"
   ]
  },
  {
   "cell_type": "raw",
   "metadata": {},
   "source": [
    "- len() counts the number of elements in a list\n",
    "- max() and min() find the maximum and minimum numbers in numeric lists\n",
    "- count() counts the number of times a value appears in a list"
   ]
  },
  {
   "cell_type": "code",
   "execution_count": 28,
   "metadata": {},
   "outputs": [
    {
     "name": "stdout",
     "output_type": "stream",
     "text": [
      "[1, 2, 3]\n",
      "3\n",
      "3\n",
      "1\n",
      "['printer', 5, ['star', 'circle', 9]]\n",
      "3\n",
      "1\n"
     ]
    }
   ],
   "source": [
    "a_list = [1, 2, 3]\n",
    "print(a_list)\n",
    "print(len(a_list))\n",
    "print(max(a_list))\n",
    "print(min(a_list))\n",
    "another_list = ['printer', 5, ['star', 'circle', 9]]\n",
    "print(another_list)\n",
    "print(len(another_list))\n",
    "print(another_list.count(5))"
   ]
  },
  {
   "cell_type": "raw",
   "metadata": {},
   "source": [
    "#[0] is the first value; [-1] is the last value"
   ]
  },
  {
   "cell_type": "code",
   "execution_count": 29,
   "metadata": {},
   "outputs": [
    {
     "name": "stdout",
     "output_type": "stream",
     "text": [
      "1\n",
      "2\n",
      "3\n",
      "3\n",
      "2\n",
      "1\n",
      "['star', 'circle', 9]\n",
      "['star', 'circle', 9]\n"
     ]
    }
   ],
   "source": [
    "print(a_list[0])\n",
    "print(a_list[1])\n",
    "print(a_list[2])\n",
    "print(a_list[-1])\n",
    "print(a_list[-2])\n",
    "print(a_list[-3])\n",
    "print(another_list[2])\n",
    "print(another_list[-1])"
   ]
  },
  {
   "cell_type": "markdown",
   "metadata": {},
   "source": [
    "### Use list slices to access a subset of list values"
   ]
  },
  {
   "cell_type": "code",
   "execution_count": 30,
   "metadata": {},
   "outputs": [
    {
     "name": "stdout",
     "output_type": "stream",
     "text": [
      "[1, 2]\n",
      "['printer', 5]\n",
      "[2, 3]\n",
      "[5, ['star', 'circle', 9]]\n"
     ]
    }
   ],
   "source": [
    "print(a_list[0:2])\n",
    "print(another_list[:2])\n",
    "print(a_list[1:3])\n",
    "print(another_list[1:])"
   ]
  },
  {
   "cell_type": "markdown",
   "metadata": {},
   "source": [
    "### Use [:] to make a copy of a list"
   ]
  },
  {
   "cell_type": "code",
   "execution_count": 31,
   "metadata": {},
   "outputs": [
    {
     "name": "stdout",
     "output_type": "stream",
     "text": [
      "[1, 2, 3]\n"
     ]
    }
   ],
   "source": [
    "a_new_list = a_list[:]\n",
    "print(a_new_list)"
   ]
  },
  {
   "cell_type": "markdown",
   "metadata": {},
   "source": [
    "### Use + to add two or more lists together"
   ]
  },
  {
   "cell_type": "code",
   "execution_count": 32,
   "metadata": {},
   "outputs": [
    {
     "name": "stdout",
     "output_type": "stream",
     "text": [
      "[1, 2, 3, 'printer', 5, ['star', 'circle', 9]]\n"
     ]
    }
   ],
   "source": [
    "a_longer_list = a_list + another_list\n",
    "print(a_longer_list)"
   ]
  },
  {
   "cell_type": "markdown",
   "metadata": {},
   "source": [
    "### Use 'in' and 'not in' to check whether specific values are or are not in a list"
   ]
  },
  {
   "cell_type": "code",
   "execution_count": 33,
   "metadata": {},
   "outputs": [
    {
     "name": "stdout",
     "output_type": "stream",
     "text": [
      "True\n",
      "2 is in [1, 2, 3].\n",
      "True\n",
      "6 is not in [1, 2, 3].\n"
     ]
    }
   ],
   "source": [
    "a = 2 in a_list\n",
    "print(a)\n",
    "if 2 in a_list:\n",
    "\tprint(\"2 is in {}.\".format(a_list))\n",
    "b = 6 not in a_list\n",
    "print(b)\n",
    "if 6 not in a_list:\n",
    "\tprint(\"6 is not in {}.\".format(a_list))\n"
   ]
  },
  {
   "cell_type": "raw",
   "metadata": {},
   "source": [
    "# Use append() to add additional values to the end of the list\n",
    "# Use remove() to remove specific values from the list\n",
    "# Use pop() to remove values from the end of the list"
   ]
  },
  {
   "cell_type": "code",
   "execution_count": 34,
   "metadata": {},
   "outputs": [
    {
     "name": "stdout",
     "output_type": "stream",
     "text": [
      "[1, 2, 3, 4, 5, 6]\n",
      "[1, 2, 3, 4, 6]\n",
      "[1, 2, 3]\n"
     ]
    }
   ],
   "source": [
    "a_list.append(4)\n",
    "a_list.append(5)\n",
    "a_list.append(6)\n",
    "print(a_list)\n",
    "a_list.remove(5)\n",
    "print(a_list)\n",
    "a_list.pop()\n",
    "a_list.pop()\n",
    "print(a_list)"
   ]
  },
  {
   "cell_type": "markdown",
   "metadata": {},
   "source": [
    "### Use reverse() to reverse a list, in-place, meaning it changes the list\n",
    "\n",
    "### To reverse a list without changing the original list, make a copy first"
   ]
  },
  {
   "cell_type": "code",
   "execution_count": 35,
   "metadata": {},
   "outputs": [
    {
     "name": "stdout",
     "output_type": "stream",
     "text": [
      "[3, 2, 1]\n",
      "[1, 2, 3]\n"
     ]
    }
   ],
   "source": [
    "a_list.reverse()\n",
    "print(a_list)\n",
    "a_list_copy = a_list[:]\n",
    "a_list_copy.reverse()\n",
    "print(a_list_copy)"
   ]
  },
  {
   "cell_type": "markdown",
   "metadata": {},
   "source": [
    "### Use sort() to sort a list, in-place, meaning it changes the list\n",
    "\n",
    "### To sort a list without changing the original list, make a copy first"
   ]
  },
  {
   "cell_type": "code",
   "execution_count": 36,
   "metadata": {},
   "outputs": [
    {
     "name": "stdout",
     "output_type": "stream",
     "text": [
      "[3, 5, 1, 7, 2, 8, 4, 9, 0, 6]\n",
      "[0, 1, 2, 3, 4, 5, 6, 7, 8, 9]\n",
      "[3, 5, 1, 7, 2, 8, 4, 9, 0, 6]\n"
     ]
    }
   ],
   "source": [
    "unordered_list = [3, 5, 1, 7, 2, 8, 4, 9, 0, 6]\n",
    "print(unordered_list)\n",
    "list_copy = unordered_list[:]\n",
    "list_copy.sort()\n",
    "print(list_copy)\n",
    "print(unordered_list)"
   ]
  },
  {
   "cell_type": "markdown",
   "metadata": {},
   "source": [
    "### Use sorted() to sort a collection of lists by a position in the lists"
   ]
  },
  {
   "cell_type": "code",
   "execution_count": 37,
   "metadata": {},
   "outputs": [
    {
     "name": "stdout",
     "output_type": "stream",
     "text": [
      "[[4, 3, 2, 1], [2, 4, 1, 3], [1, 2, 3, 4]]\n"
     ]
    }
   ],
   "source": [
    "my_lists = [[1,2,3,4], [4,3,2,1], [2,4,1,3]]\n",
    "my_lists_sorted_by_index_3 = sorted(my_lists, key=lambda index_value: index_value[3])\n",
    "print(my_lists_sorted_by_index_3)"
   ]
  },
  {
   "cell_type": "markdown",
   "metadata": {},
   "source": [
    "### Use itemgetter() to sort a collection of lists by two index positions"
   ]
  },
  {
   "cell_type": "code",
   "execution_count": 38,
   "metadata": {},
   "outputs": [
    {
     "ename": "NameError",
     "evalue": "name 'itemgetter' is not defined",
     "output_type": "error",
     "traceback": [
      "\u001b[0;31m---------------------------------------------------------\u001b[0m",
      "\u001b[0;31mNameError\u001b[0m               Traceback (most recent call last)",
      "\u001b[0;32m<ipython-input-38-74045e85d9fb>\u001b[0m in \u001b[0;36m<module>\u001b[0;34m\u001b[0m\n\u001b[1;32m      1\u001b[0m \u001b[0mmy_lists\u001b[0m \u001b[0;34m=\u001b[0m \u001b[0;34m[\u001b[0m\u001b[0;34m[\u001b[0m\u001b[0;36m123\u001b[0m\u001b[0;34m,\u001b[0m\u001b[0;36m2\u001b[0m\u001b[0;34m,\u001b[0m\u001b[0;36m2\u001b[0m\u001b[0;34m,\u001b[0m\u001b[0;36m444\u001b[0m\u001b[0;34m]\u001b[0m\u001b[0;34m,\u001b[0m \u001b[0;34m[\u001b[0m\u001b[0;36m22\u001b[0m\u001b[0;34m,\u001b[0m\u001b[0;36m6\u001b[0m\u001b[0;34m,\u001b[0m\u001b[0;36m6\u001b[0m\u001b[0;34m,\u001b[0m\u001b[0;36m444\u001b[0m\u001b[0;34m]\u001b[0m\u001b[0;34m,\u001b[0m \u001b[0;34m[\u001b[0m\u001b[0;36m354\u001b[0m\u001b[0;34m,\u001b[0m\u001b[0;36m4\u001b[0m\u001b[0;34m,\u001b[0m\u001b[0;36m4\u001b[0m\u001b[0;34m,\u001b[0m\u001b[0;36m678\u001b[0m\u001b[0;34m]\u001b[0m\u001b[0;34m,\u001b[0m \u001b[0;34m[\u001b[0m\u001b[0;36m236\u001b[0m\u001b[0;34m,\u001b[0m\u001b[0;36m5\u001b[0m\u001b[0;34m,\u001b[0m\u001b[0;36m5\u001b[0m\u001b[0;34m,\u001b[0m\u001b[0;36m678\u001b[0m\u001b[0;34m]\u001b[0m\u001b[0;34m,\u001b[0m \u001b[0;34m[\u001b[0m\u001b[0;36m578\u001b[0m\u001b[0;34m,\u001b[0m\u001b[0;36m1\u001b[0m\u001b[0;34m,\u001b[0m\u001b[0;36m1\u001b[0m\u001b[0;34m,\u001b[0m\u001b[0;36m290\u001b[0m\u001b[0;34m]\u001b[0m\u001b[0;34m,\u001b[0m \u001b[0;34m[\u001b[0m\u001b[0;36m461\u001b[0m\u001b[0;34m,\u001b[0m\u001b[0;36m1\u001b[0m\u001b[0;34m,\u001b[0m\u001b[0;36m1\u001b[0m\u001b[0;34m,\u001b[0m\u001b[0;36m290\u001b[0m\u001b[0;34m]\u001b[0m\u001b[0;34m]\u001b[0m\u001b[0;34m\u001b[0m\u001b[0;34m\u001b[0m\u001b[0m\n\u001b[0;32m----> 2\u001b[0;31m \u001b[0mmy_lists_sorted_by_index_3_and_0\u001b[0m \u001b[0;34m=\u001b[0m \u001b[0msorted\u001b[0m\u001b[0;34m(\u001b[0m\u001b[0mmy_lists\u001b[0m\u001b[0;34m,\u001b[0m \u001b[0mkey\u001b[0m\u001b[0;34m=\u001b[0m\u001b[0mitemgetter\u001b[0m\u001b[0;34m(\u001b[0m\u001b[0;36m3\u001b[0m\u001b[0;34m,\u001b[0m\u001b[0;36m0\u001b[0m\u001b[0;34m)\u001b[0m\u001b[0;34m)\u001b[0m\u001b[0;34m\u001b[0m\u001b[0;34m\u001b[0m\u001b[0m\n\u001b[0m\u001b[1;32m      3\u001b[0m \u001b[0mprint\u001b[0m\u001b[0;34m(\u001b[0m\u001b[0mmy_lists_sorted_by_index_3_and_0\u001b[0m\u001b[0;34m)\u001b[0m\u001b[0;34m\u001b[0m\u001b[0;34m\u001b[0m\u001b[0m\n",
      "\u001b[0;31mNameError\u001b[0m: name 'itemgetter' is not defined"
     ]
    }
   ],
   "source": [
    "my_lists = [[123,2,2,444], [22,6,6,444], [354,4,4,678], [236,5,5,678], [578,1,1,290], [461,1,1,290]]\n",
    "my_lists_sorted_by_index_3_and_0 = sorted(my_lists, key=itemgetter(3,0))\n",
    "print(my_lists_sorted_by_index_3_and_0)"
   ]
  },
  {
   "cell_type": "markdown",
   "metadata": {},
   "source": [
    "---"
   ]
  },
  {
   "cell_type": "markdown",
   "metadata": {},
   "source": [
    "## 11: Tuples"
   ]
  },
  {
   "cell_type": "markdown",
   "metadata": {},
   "source": [
    "### Use parentheses to create a tuple"
   ]
  },
  {
   "cell_type": "code",
   "execution_count": null,
   "metadata": {},
   "outputs": [],
   "source": [
    "my_tuple = ('x', 'y', 'z')\n",
    "print(my_tuple)\n",
    "print(len(my_tuple))\n",
    "print(my_tuple[1])\n",
    "longer_tuple = my_tuple + my_tuple\n",
    "print(longer_tuple)"
   ]
  },
  {
   "cell_type": "markdown",
   "metadata": {},
   "source": [
    "### Unpack tuples with the left-hand side of an assignment operator"
   ]
  },
  {
   "cell_type": "code",
   "execution_count": null,
   "metadata": {},
   "outputs": [],
   "source": [
    "one, two, three = my_tuple\n",
    "print(one, two, three)\n",
    "var1 = 'handong'\n",
    "var2 = 'university'\n",
    "print(var1, var2)\n"
   ]
  },
  {
   "cell_type": "markdown",
   "metadata": {},
   "source": [
    "### Swap values between variables"
   ]
  },
  {
   "cell_type": "code",
   "execution_count": null,
   "metadata": {},
   "outputs": [],
   "source": [
    "var1, var2 = var2, var1\n",
    "print(var1, var2)"
   ]
  },
  {
   "cell_type": "markdown",
   "metadata": {},
   "source": [
    "### Convert tuples to lists and lists to tuples"
   ]
  },
  {
   "cell_type": "code",
   "execution_count": null,
   "metadata": {},
   "outputs": [],
   "source": [
    "my_list = [1, 2, 3]\n",
    "my_tuple = ('x', 'y', 'z')\n",
    "print(tuple(my_list))\n",
    "print(list(my_tuple))"
   ]
  },
  {
   "cell_type": "markdown",
   "metadata": {},
   "source": [
    "---"
   ]
  },
  {
   "cell_type": "markdown",
   "metadata": {},
   "source": [
    "## 12: Dictionaries"
   ]
  },
  {
   "cell_type": "markdown",
   "metadata": {},
   "source": [
    "### Use curly braces to create a dictionary\n",
    "\n",
    "### Use a colon between keys and values in each pair\n",
    "\n",
    "### len() counts the number of key-value pairs in a dictionary"
   ]
  },
  {
   "cell_type": "code",
   "execution_count": null,
   "metadata": {},
   "outputs": [],
   "source": [
    "empty_dict = { }\n",
    "a_dict = {'one':1, 'two':2, 'three':3}\n",
    "print(a_dict)\n",
    "print(len(a_dict))\n",
    "another_dict = {'x':'printer', 'y':5, 'z':['star', 'circle', 9]}\n",
    "print(another_dict)\n",
    "print(len(another_dict))\n"
   ]
  },
  {
   "cell_type": "markdown",
   "metadata": {},
   "source": [
    "### Use keys to access specific values in a dictionary"
   ]
  },
  {
   "cell_type": "code",
   "execution_count": null,
   "metadata": {},
   "outputs": [],
   "source": [
    "print(a_dict['two'])\n",
    "print(another_dict['z'])"
   ]
  },
  {
   "cell_type": "markdown",
   "metadata": {},
   "source": [
    "### Use copy() to make a copy of a dictionary"
   ]
  },
  {
   "cell_type": "code",
   "execution_count": null,
   "metadata": {},
   "outputs": [],
   "source": [
    "a_new_dict = a_dict.copy()\n",
    "print(a_new_dict)"
   ]
  },
  {
   "cell_type": "markdown",
   "metadata": {},
   "source": [
    "### Use keys(), values(), and items() to access a dictionary's keys, values, and key-value pairs, respectively"
   ]
  },
  {
   "cell_type": "code",
   "execution_count": null,
   "metadata": {},
   "outputs": [],
   "source": [
    "print(a_dict.keys())\n",
    "print(a_dict.values())\n",
    "print(a_dict.items())"
   ]
  },
  {
   "cell_type": "markdown",
   "metadata": {},
   "source": [
    "### Use in, not in, and get to test whether a key is in a dictionary"
   ]
  },
  {
   "cell_type": "code",
   "execution_count": null,
   "metadata": {},
   "outputs": [],
   "source": [
    "if 'y' in another_dict:\n",
    "\tprint(\"y is a key in another_dict: {}.\".format(another_dict.keys()))\n",
    "\n",
    "if 'c' not in another_dict:\n",
    "\tprint(\"c is not a key in another_dict: {}.\".format(another_dict.keys()))\n",
    "\n",
    "print(\"three: {!s}\".format(a_dict.get('three')))\n",
    "print(\"four: {!s}\".format(a_dict.get('four')))\n",
    "print(\"four: {!s}\".format(a_dict.get('four', 'Not in dict')))\n"
   ]
  },
  {
   "cell_type": "markdown",
   "metadata": {},
   "source": [
    "### Use sorted() to sort a dictionary to sort a dictionary without changing the original dictionary, make a copy first"
   ]
  },
  {
   "cell_type": "code",
   "execution_count": null,
   "metadata": {},
   "outputs": [],
   "source": [
    "print(str(a_dict))\n",
    "dict_copy = a_dict.copy()\n",
    "ordered_dict1 = sorted(dict_copy.items(), key=lambda item: item[0])\n",
    "print(\"order by keys: {}\".format(ordered_dict1))\n",
    "ordered_dict2 = sorted(dict_copy.items(), key=lambda item: item[1])\n",
    "print(\"order by values: {}\".format(ordered_dict2))\n",
    "ordered_dict3 = sorted(dict_copy.items(), key=lambda x: x[1], reverse=True)\n",
    "print(\"order by values, descending)=: {}\".format(ordered_dict3))\n",
    "ordered_dict4 = sorted(dict_copy.items(), key=lambda x: x[1], reverse=False)\n",
    "print(\"order by values, ascending: {}\".format(ordered_dict4))"
   ]
  },
  {
   "cell_type": "markdown",
   "metadata": {},
   "source": [
    "---"
   ]
  },
  {
   "cell_type": "markdown",
   "metadata": {},
   "source": [
    "## 13 CONTROL FLOW"
   ]
  },
  {
   "cell_type": "markdown",
   "metadata": {},
   "source": [
    "### if-else statement"
   ]
  },
  {
   "cell_type": "code",
   "execution_count": null,
   "metadata": {},
   "outputs": [],
   "source": [
    "x = 5\n",
    "if x > 4 or x != 9:\n",
    "   print(\"x: {}\".format(x))\n",
    "else:\n",
    "   print(\"x is not greater than 4\")\n",
    "\n",
    "# if-elif-else statement\n",
    "if x > 6:\n",
    "   print(\"x is greater than six\")\n",
    "elif x > 4 and x == 5:\n",
    "   print(x*x)\n",
    "else:\n",
    "   print(\"x is not greater than 4\")\n"
   ]
  },
  {
   "cell_type": "markdown",
   "metadata": {},
   "source": [
    "### for loop"
   ]
  },
  {
   "cell_type": "code",
   "execution_count": null,
   "metadata": {},
   "outputs": [],
   "source": [
    "y = ['Jan', 'Feb', 'Mar', 'Apr', 'May', 'Jun', 'Jul', 'Aug', 'Sep', 'Oct', \\\n",
    "'Nov', 'Dec']\n",
    "z = ['Annie', 'Betty', 'Claire', 'Daphne', 'Ellie', 'Franchesca', 'Greta', \\\n",
    "'Holly', 'Isabel', 'Jenny']\n",
    "\n",
    "for month in y:\n",
    "   print(month)\n",
    "\n",
    "print(\"index value: name in list\")\n",
    "for i in range(len(z)):\n",
    "   print(i, z[i])\n",
    "\n",
    "print(\"access elements in y with z's index values\")\n",
    "for j in range(len(z)):\n",
    "   if y[j].startswith('J'):\n",
    "       print(y[j])\n",
    "\n",
    "for key, value in another_dict.items():\n",
    "   print(key, value)\n"
   ]
  },
  {
   "cell_type": "markdown",
   "metadata": {},
   "source": [
    "### compact for loops\n",
    "\n",
    "### list, set, and dictionary comprehensions\n",
    "\n",
    "### Select specific rows using a list comprehension"
   ]
  },
  {
   "cell_type": "code",
   "execution_count": null,
   "metadata": {},
   "outputs": [],
   "source": [
    "my_data = [[1,2,3], [4,5,6], [7,8,9]]\n",
    "rows_to_keep = [row for row in my_data if row[2] > 5]\n",
    "print(rows_to_keep)"
   ]
  },
  {
   "cell_type": "markdown",
   "metadata": {},
   "source": [
    "### Select a set of unique tuples in a list using a set comprehension"
   ]
  },
  {
   "cell_type": "code",
   "execution_count": null,
   "metadata": {},
   "outputs": [],
   "source": [
    "my_data = [(1,2,3), (4,5,6), (7,8,9), (7,8,9)]\n",
    "set_of_tuples1 = {x for x in my_data}\n",
    "print(set_of_tuples1)\n",
    "set_of_tuples2 = set(my_data)\n",
    "print(set_of_tuples2)"
   ]
  },
  {
   "cell_type": "markdown",
   "metadata": {},
   "source": [
    "### Select specific key-value pairs using a dictionary comprehension"
   ]
  },
  {
   "cell_type": "code",
   "execution_count": null,
   "metadata": {},
   "outputs": [],
   "source": [
    "my_dictionary = {'customer1': 7, 'customer2': 9, 'customer3': 11}\n",
    "my_results = {key : value for key, value in my_dictionary.items() if \\\n",
    "value > 10}\n",
    "print(my_results)\n"
   ]
  },
  {
   "cell_type": "markdown",
   "metadata": {},
   "source": [
    "### while loop"
   ]
  },
  {
   "cell_type": "code",
   "execution_count": null,
   "metadata": {},
   "outputs": [],
   "source": [
    "x = 0\n",
    "while x < 11:\n",
    "   print(x)\n",
    "   x += 1"
   ]
  },
  {
   "cell_type": "markdown",
   "metadata": {},
   "source": [
    "---"
   ]
  },
  {
   "cell_type": "markdown",
   "metadata": {},
   "source": [
    "## 14: Functions"
   ]
  },
  {
   "cell_type": "markdown",
   "metadata": {},
   "source": [
    "### Calculate the mean of a sequence of numeric values"
   ]
  },
  {
   "cell_type": "code",
   "execution_count": null,
   "metadata": {},
   "outputs": [],
   "source": [
    "def getMean(numericValues):\n",
    "   return sum(numericValues)/len(numericValues) if len(numericValues) > 0 \\\n",
    "   else float('nan')\n",
    "\n",
    "my_list = [2, 2, 4, 4, 6, 6, 8, 8]\n",
    "print(getMean(my_list))"
   ]
  },
  {
   "cell_type": "markdown",
   "metadata": {},
   "source": [
    "---"
   ]
  },
  {
   "cell_type": "markdown",
   "metadata": {},
   "source": [
    "## 15: File"
   ]
  },
  {
   "cell_type": "markdown",
   "metadata": {},
   "source": [
    "### READ A FILE\n",
    "### Read a single text file"
   ]
  },
  {
   "cell_type": "code",
   "execution_count": null,
   "metadata": {},
   "outputs": [],
   "source": [
    "input_file = \"test.txt\""
   ]
  },
  {
   "cell_type": "markdown",
   "metadata": {},
   "source": [
    "### Read a text file (older method) ##"
   ]
  },
  {
   "cell_type": "code",
   "execution_count": null,
   "metadata": {},
   "outputs": [],
   "source": [
    "filereader = open(input_file, 'r', newline='')\n",
    "for row in filereader:\n",
    "   print(row.strip())\n",
    "filereader.close()"
   ]
  },
  {
   "cell_type": "markdown",
   "metadata": {},
   "source": [
    "### Read a text file (newer method) ##"
   ]
  },
  {
   "cell_type": "code",
   "execution_count": null,
   "metadata": {},
   "outputs": [],
   "source": [
    "with open(input_file, 'r', newline='') as filereader:\n",
    "   for row in filereader:\n",
    "       print(row.strip())"
   ]
  },
  {
   "cell_type": "markdown",
   "metadata": {},
   "source": [
    "### READ MULTIPLE FILES\n",
    "### Read multiple text files"
   ]
  },
  {
   "cell_type": "code",
   "execution_count": null,
   "metadata": {},
   "outputs": [],
   "source": [
    "import glob, os\n",
    "inputPath = './'\n",
    "for input_file in glob.glob(os.path.join(inputPath,'*.txt')):\n",
    "   with open(input_file, 'r', newline='') as filereader:\n",
    "      for row in filereader:\n",
    "          print(row.strip())"
   ]
  },
  {
   "cell_type": "markdown",
   "metadata": {},
   "source": [
    "### WRITE TO A FILE\n",
    "### Write to a text file"
   ]
  },
  {
   "cell_type": "code",
   "execution_count": null,
   "metadata": {},
   "outputs": [],
   "source": [
    "my_letters = ['a', 'b', 'c', 'd', 'e', 'f', 'g', 'h', 'i', 'j']\n",
    "max_index = len(my_letters)\n",
    "output_file = \"outputtest.txt\"\n",
    "filewriter = open(output_file, 'w')\n",
    "for index_value in range(len(my_letters)):\n",
    "   if index_value < (max_index-1):\n",
    "       filewriter.write(my_letters[index_value]+'---')\n",
    "   else:\n",
    "       filewriter.write(my_letters[index_value]+'\\n')\n",
    "filewriter.close()\n",
    "print(\"Output written to file\")"
   ]
  },
  {
   "cell_type": "markdown",
   "metadata": {},
   "source": [
    "### Write to a CSV file"
   ]
  },
  {
   "cell_type": "code",
   "execution_count": null,
   "metadata": {},
   "outputs": [],
   "source": [
    "my_numbers = [0, 1, 2, 3, 4, 5, 6, 7, 8, 9]\n",
    "max_index = len(my_numbers)\n",
    "output_file = \"output.csv\"\n",
    "filewriter = open(output_file, 'a')\n",
    "for index_value in range(len(my_numbers)):\n",
    "   if index_value < (max_index-1):\n",
    "       filewriter.write(str(my_numbers[index_value])+',')\n",
    "   else:\n",
    "       filewriter.write(str(my_numbers[index_value])+'\\n')\n",
    "filewriter.close()\n",
    "print(\"Output appended to file\")"
   ]
  }
 ],
 "metadata": {
  "kernelspec": {
   "display_name": "Python 3",
   "language": "python",
   "name": "python3"
  },
  "language_info": {
   "codemirror_mode": {
    "name": "ipython",
    "version": 3
   },
   "file_extension": ".py",
   "mimetype": "text/x-python",
   "name": "python",
   "nbconvert_exporter": "python",
   "pygments_lexer": "ipython3",
   "version": "3.6.8"
  }
 },
 "nbformat": 4,
 "nbformat_minor": 2
}
